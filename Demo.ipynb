{
 "cells": [
  {
   "cell_type": "code",
   "execution_count": 213,
   "id": "dc5b3dad-fe07-4257-bb6c-1829e97b4cca",
   "metadata": {},
   "outputs": [],
   "source": [
    "import numpy as np\n",
    "import pandas as pd\n",
    "import matplotlib.pyplot as plt\n",
    "%matplotlib inline \n",
    "import seaborn as sns\n",
    "from keras.layers.core import Dense, Activation, Dropout\n",
    "from keras.layers.recurrent import LSTM\n",
    "from keras.models import Sequential\n",
    "import tensorflow as tf\n",
    "import tensorflow.keras as keras\n",
    "import warnings\n",
    "from sklearn.model_selection import train_test_split\n",
    "from sklearn.preprocessing import MinMaxScaler\n",
    "\n",
    "warnings.filterwarnings(\"ignore\", category=DeprecationWarning) "
   ]
  },
  {
   "cell_type": "code",
   "execution_count": 214,
   "id": "2a9e6d59-90e0-4010-a214-9fd5dc94b5f7",
   "metadata": {},
   "outputs": [],
   "source": [
    "model = keras.models.load_model('./Forst_Arnett_Model.h5')"
   ]
  },
  {
   "cell_type": "code",
   "execution_count": 215,
   "id": "22fde4bb-31a1-4752-8fcd-55868bc4681b",
   "metadata": {},
   "outputs": [],
   "source": [
    "train = pd.read_csv(\"NN_Project.csv\",index_col=0,  header=0)"
   ]
  },
  {
   "cell_type": "code",
   "execution_count": 216,
   "id": "61b96fba-6c9b-4fe1-93e6-b8dfaf28cd5d",
   "metadata": {},
   "outputs": [],
   "source": [
    "month = []\n",
    "for yearMonth in train.index.values:\n",
    "    month.append(int(yearMonth.split(\"-\")[1]))\n",
    "train[\"MONTH\"] = month"
   ]
  },
  {
   "cell_type": "code",
   "execution_count": 217,
   "id": "5edfa0e2-fc7e-44fc-b60b-569b6d7e86fc",
   "metadata": {},
   "outputs": [],
   "source": [
    "normalized_df = train.copy()"
   ]
  },
  {
   "cell_type": "code",
   "execution_count": 218,
   "id": "3cf7f0fa-fcfe-46f0-aa3b-89ff091e638c",
   "metadata": {},
   "outputs": [],
   "source": [
    "normalized_df.loc[len(normalized_df.index)] = ['0', '0', 15306163.16,'0','0','0'] "
   ]
  },
  {
   "cell_type": "code",
   "execution_count": 219,
   "id": "3ca54e5e-2b7d-4f55-b32d-a324964ebcef",
   "metadata": {},
   "outputs": [
    {
     "data": {
      "text/html": [
       "<div>\n",
       "<style scoped>\n",
       "    .dataframe tbody tr th:only-of-type {\n",
       "        vertical-align: middle;\n",
       "    }\n",
       "\n",
       "    .dataframe tbody tr th {\n",
       "        vertical-align: top;\n",
       "    }\n",
       "\n",
       "    .dataframe thead th {\n",
       "        text-align: right;\n",
       "    }\n",
       "</style>\n",
       "<table border=\"1\" class=\"dataframe\">\n",
       "  <thead>\n",
       "    <tr style=\"text-align: right;\">\n",
       "      <th></th>\n",
       "      <th>NUMBER_OF_ACCOUNTS</th>\n",
       "      <th>PLACEMENT_AMOUNT</th>\n",
       "      <th>PAYMENT_AMOUNT</th>\n",
       "      <th>REV</th>\n",
       "      <th>LETTERS_COUNT</th>\n",
       "      <th>MONTH</th>\n",
       "    </tr>\n",
       "    <tr>\n",
       "      <th>MONTH_YEAR</th>\n",
       "      <th></th>\n",
       "      <th></th>\n",
       "      <th></th>\n",
       "      <th></th>\n",
       "      <th></th>\n",
       "      <th></th>\n",
       "    </tr>\n",
       "  </thead>\n",
       "  <tbody>\n",
       "    <tr>\n",
       "      <th>1990-06</th>\n",
       "      <td>1</td>\n",
       "      <td>275.63</td>\n",
       "      <td>20.00</td>\n",
       "      <td>255.63</td>\n",
       "      <td>1</td>\n",
       "      <td>6</td>\n",
       "    </tr>\n",
       "    <tr>\n",
       "      <th>1992-11</th>\n",
       "      <td>2</td>\n",
       "      <td>3203.2</td>\n",
       "      <td>10.00</td>\n",
       "      <td>3193.2</td>\n",
       "      <td>1</td>\n",
       "      <td>11</td>\n",
       "    </tr>\n",
       "    <tr>\n",
       "      <th>1993-02</th>\n",
       "      <td>1</td>\n",
       "      <td>613.28</td>\n",
       "      <td>70.00</td>\n",
       "      <td>543.28</td>\n",
       "      <td>3</td>\n",
       "      <td>2</td>\n",
       "    </tr>\n",
       "    <tr>\n",
       "      <th>1993-03</th>\n",
       "      <td>2</td>\n",
       "      <td>14850.0</td>\n",
       "      <td>10.00</td>\n",
       "      <td>14840.0</td>\n",
       "      <td>4</td>\n",
       "      <td>3</td>\n",
       "    </tr>\n",
       "    <tr>\n",
       "      <th>1993-04</th>\n",
       "      <td>1</td>\n",
       "      <td>2120.0</td>\n",
       "      <td>40.00</td>\n",
       "      <td>2080.0</td>\n",
       "      <td>2</td>\n",
       "      <td>4</td>\n",
       "    </tr>\n",
       "    <tr>\n",
       "      <th>...</th>\n",
       "      <td>...</td>\n",
       "      <td>...</td>\n",
       "      <td>...</td>\n",
       "      <td>...</td>\n",
       "      <td>...</td>\n",
       "      <td>...</td>\n",
       "    </tr>\n",
       "    <tr>\n",
       "      <th>2022-07</th>\n",
       "      <td>528187</td>\n",
       "      <td>124601.64</td>\n",
       "      <td>14006566.82</td>\n",
       "      <td>-13881965.18</td>\n",
       "      <td>472828</td>\n",
       "      <td>7</td>\n",
       "    </tr>\n",
       "    <tr>\n",
       "      <th>2022-08</th>\n",
       "      <td>560111</td>\n",
       "      <td>252556.19</td>\n",
       "      <td>18040112.62</td>\n",
       "      <td>-17787556.43</td>\n",
       "      <td>509834</td>\n",
       "      <td>8</td>\n",
       "    </tr>\n",
       "    <tr>\n",
       "      <th>2022-09</th>\n",
       "      <td>611340</td>\n",
       "      <td>317493.18</td>\n",
       "      <td>16795785.08</td>\n",
       "      <td>-16478291.9</td>\n",
       "      <td>428615</td>\n",
       "      <td>9</td>\n",
       "    </tr>\n",
       "    <tr>\n",
       "      <th>2022-10</th>\n",
       "      <td>478058</td>\n",
       "      <td>412775.44</td>\n",
       "      <td>16316381.66</td>\n",
       "      <td>-15903606.22</td>\n",
       "      <td>501257</td>\n",
       "      <td>10</td>\n",
       "    </tr>\n",
       "    <tr>\n",
       "      <th>353</th>\n",
       "      <td>0</td>\n",
       "      <td>0</td>\n",
       "      <td>15306163.16</td>\n",
       "      <td>0</td>\n",
       "      <td>0</td>\n",
       "      <td>0</td>\n",
       "    </tr>\n",
       "  </tbody>\n",
       "</table>\n",
       "<p>354 rows × 6 columns</p>\n",
       "</div>"
      ],
      "text/plain": [
       "           NUMBER_OF_ACCOUNTS PLACEMENT_AMOUNT  PAYMENT_AMOUNT          REV  \\\n",
       "MONTH_YEAR                                                                    \n",
       "1990-06                     1           275.63           20.00       255.63   \n",
       "1992-11                     2           3203.2           10.00       3193.2   \n",
       "1993-02                     1           613.28           70.00       543.28   \n",
       "1993-03                     2          14850.0           10.00      14840.0   \n",
       "1993-04                     1           2120.0           40.00       2080.0   \n",
       "...                       ...              ...             ...          ...   \n",
       "2022-07                528187        124601.64     14006566.82 -13881965.18   \n",
       "2022-08                560111        252556.19     18040112.62 -17787556.43   \n",
       "2022-09                611340        317493.18     16795785.08  -16478291.9   \n",
       "2022-10                478058        412775.44     16316381.66 -15903606.22   \n",
       "353                         0                0     15306163.16            0   \n",
       "\n",
       "           LETTERS_COUNT MONTH  \n",
       "MONTH_YEAR                      \n",
       "1990-06                1     6  \n",
       "1992-11                1    11  \n",
       "1993-02                3     2  \n",
       "1993-03                4     3  \n",
       "1993-04                2     4  \n",
       "...                  ...   ...  \n",
       "2022-07           472828     7  \n",
       "2022-08           509834     8  \n",
       "2022-09           428615     9  \n",
       "2022-10           501257    10  \n",
       "353                    0     0  \n",
       "\n",
       "[354 rows x 6 columns]"
      ]
     },
     "execution_count": 219,
     "metadata": {},
     "output_type": "execute_result"
    }
   ],
   "source": [
    "normalized_df"
   ]
  },
  {
   "cell_type": "code",
   "execution_count": 220,
   "id": "74efad79-2532-45f0-891f-8c63b6bc8806",
   "metadata": {},
   "outputs": [],
   "source": [
    "scaler = MinMaxScaler()\n",
    "data_scaled = scaler.fit_transform(normalized_df)"
   ]
  },
  {
   "cell_type": "code",
   "execution_count": 221,
   "id": "54e3d43f-ef06-465e-b9e4-1749a44237b0",
   "metadata": {},
   "outputs": [],
   "source": [
    "normalized_df_tmp = normalized_df.to_numpy()"
   ]
  },
  {
   "cell_type": "code",
   "execution_count": 222,
   "id": "70db2cbc-6481-4332-a1dc-ce96f0be5a5a",
   "metadata": {},
   "outputs": [],
   "source": [
    "features = normalized_df_tmp\n",
    "target = normalized_df_tmp[:,2]"
   ]
  },
  {
   "cell_type": "code",
   "execution_count": 223,
   "id": "1debfedd-0a9b-4894-b47f-3c0ffd62952e",
   "metadata": {},
   "outputs": [],
   "source": [
    "window_length = 6\n",
    "num_features = 6\n",
    "train_generator = keras.preprocessing.sequence.TimeseriesGenerator(features,target,length=window_length,sampling_rate=1,batch_size=1)"
   ]
  },
  {
   "cell_type": "code",
   "execution_count": 224,
   "id": "6e25b57f-0b4c-434c-a963-7efb40110bf1",
   "metadata": {},
   "outputs": [],
   "source": [
    "x_test = train_generator[-7][0]"
   ]
  },
  {
   "cell_type": "code",
   "execution_count": 225,
   "id": "f4940ad0-05a5-45c8-ae65-7a0db560600e",
   "metadata": {},
   "outputs": [
    {
     "data": {
      "text/plain": [
       "array([[[422959, 533903.58, 15708985.14, -15175081.56, 537624, 5],\n",
       "        [514023, 362123.27, 15446204.32, -15084081.05, 434363, 6],\n",
       "        [528187, 124601.64, 14006566.82, -13881965.18, 472828, 7],\n",
       "        [560111, 252556.19, 18040112.62, -17787556.43, 509834, 8],\n",
       "        [611340, 317493.18, 16795785.08, -16478291.9, 428615, 9],\n",
       "        [478058, 412775.44, 16316381.66, -15903606.22, 501257, 10]]],\n",
       "      dtype=object)"
      ]
     },
     "execution_count": 225,
     "metadata": {},
     "output_type": "execute_result"
    }
   ],
   "source": [
    "x_test"
   ]
  },
  {
   "cell_type": "code",
   "execution_count": 226,
   "id": "cce5c758-1380-4c36-a4e6-25561296f897",
   "metadata": {},
   "outputs": [
    {
     "data": {
      "text/plain": [
       "array([15306163.16])"
      ]
     },
     "execution_count": 226,
     "metadata": {},
     "output_type": "execute_result"
    }
   ],
   "source": [
    "train_generator[-7][1]"
   ]
  },
  {
   "cell_type": "code",
   "execution_count": 227,
   "id": "d444d477-1f26-44f8-b8c2-c76c0cbd1f78",
   "metadata": {},
   "outputs": [
    {
     "data": {
      "text/plain": [
       "<matplotlib.legend.Legend at 0x7faffd4bd600>"
      ]
     },
     "execution_count": 227,
     "metadata": {},
     "output_type": "execute_result"
    },
    {
     "data": {
      "image/png": "[encoded data removed]",
      "text/plain": [
       "<Figure size 432x288 with 1 Axes>"
      ]
     },
     "metadata": {
      "needs_background": "light"
     },
     "output_type": "display_data"
    }
   ],
   "source": [
    "plt.plot(target[-7:])\n",
    "plt.legend(['Training Predictions'])"
   ]
  },
  {
   "cell_type": "code",
   "execution_count": 228,
   "id": "b7fbf27f-9b0b-47aa-ab61-f9e42252da72",
   "metadata": {},
   "outputs": [
    {
     "data": {
      "text/html": [
       "<div>\n",
       "<style scoped>\n",
       "    .dataframe tbody tr th:only-of-type {\n",
       "        vertical-align: middle;\n",
       "    }\n",
       "\n",
       "    .dataframe tbody tr th {\n",
       "        vertical-align: top;\n",
       "    }\n",
       "\n",
       "    .dataframe thead th {\n",
       "        text-align: right;\n",
       "    }\n",
       "</style>\n",
       "<table border=\"1\" class=\"dataframe\">\n",
       "  <thead>\n",
       "    <tr style=\"text-align: right;\">\n",
       "      <th></th>\n",
       "      <th>NUMBER_OF_ACCOUNTS</th>\n",
       "      <th>PLACEMENT_AMOUNT</th>\n",
       "      <th>PAYMENT_AMOUNT</th>\n",
       "      <th>REV</th>\n",
       "      <th>LETTERS_COUNT</th>\n",
       "      <th>MONTH</th>\n",
       "    </tr>\n",
       "    <tr>\n",
       "      <th>MONTH_YEAR</th>\n",
       "      <th></th>\n",
       "      <th></th>\n",
       "      <th></th>\n",
       "      <th></th>\n",
       "      <th></th>\n",
       "      <th></th>\n",
       "    </tr>\n",
       "  </thead>\n",
       "  <tbody>\n",
       "    <tr>\n",
       "      <th>1990-06</th>\n",
       "      <td>1</td>\n",
       "      <td>275.63</td>\n",
       "      <td>20.00</td>\n",
       "      <td>255.63</td>\n",
       "      <td>1</td>\n",
       "      <td>6</td>\n",
       "    </tr>\n",
       "    <tr>\n",
       "      <th>1992-11</th>\n",
       "      <td>2</td>\n",
       "      <td>3203.2</td>\n",
       "      <td>10.00</td>\n",
       "      <td>3193.2</td>\n",
       "      <td>1</td>\n",
       "      <td>11</td>\n",
       "    </tr>\n",
       "    <tr>\n",
       "      <th>1993-02</th>\n",
       "      <td>1</td>\n",
       "      <td>613.28</td>\n",
       "      <td>70.00</td>\n",
       "      <td>543.28</td>\n",
       "      <td>3</td>\n",
       "      <td>2</td>\n",
       "    </tr>\n",
       "    <tr>\n",
       "      <th>1993-03</th>\n",
       "      <td>2</td>\n",
       "      <td>14850.0</td>\n",
       "      <td>10.00</td>\n",
       "      <td>14840.0</td>\n",
       "      <td>4</td>\n",
       "      <td>3</td>\n",
       "    </tr>\n",
       "    <tr>\n",
       "      <th>1993-04</th>\n",
       "      <td>1</td>\n",
       "      <td>2120.0</td>\n",
       "      <td>40.00</td>\n",
       "      <td>2080.0</td>\n",
       "      <td>2</td>\n",
       "      <td>4</td>\n",
       "    </tr>\n",
       "    <tr>\n",
       "      <th>...</th>\n",
       "      <td>...</td>\n",
       "      <td>...</td>\n",
       "      <td>...</td>\n",
       "      <td>...</td>\n",
       "      <td>...</td>\n",
       "      <td>...</td>\n",
       "    </tr>\n",
       "    <tr>\n",
       "      <th>2022-07</th>\n",
       "      <td>528187</td>\n",
       "      <td>124601.64</td>\n",
       "      <td>14006566.82</td>\n",
       "      <td>-13881965.18</td>\n",
       "      <td>472828</td>\n",
       "      <td>7</td>\n",
       "    </tr>\n",
       "    <tr>\n",
       "      <th>2022-08</th>\n",
       "      <td>560111</td>\n",
       "      <td>252556.19</td>\n",
       "      <td>18040112.62</td>\n",
       "      <td>-17787556.43</td>\n",
       "      <td>509834</td>\n",
       "      <td>8</td>\n",
       "    </tr>\n",
       "    <tr>\n",
       "      <th>2022-09</th>\n",
       "      <td>611340</td>\n",
       "      <td>317493.18</td>\n",
       "      <td>16795785.08</td>\n",
       "      <td>-16478291.9</td>\n",
       "      <td>428615</td>\n",
       "      <td>9</td>\n",
       "    </tr>\n",
       "    <tr>\n",
       "      <th>2022-10</th>\n",
       "      <td>478058</td>\n",
       "      <td>412775.44</td>\n",
       "      <td>16316381.66</td>\n",
       "      <td>-15903606.22</td>\n",
       "      <td>501257</td>\n",
       "      <td>10</td>\n",
       "    </tr>\n",
       "    <tr>\n",
       "      <th>353</th>\n",
       "      <td>0</td>\n",
       "      <td>0</td>\n",
       "      <td>15306163.16</td>\n",
       "      <td>0</td>\n",
       "      <td>0</td>\n",
       "      <td>0</td>\n",
       "    </tr>\n",
       "  </tbody>\n",
       "</table>\n",
       "<p>354 rows × 6 columns</p>\n",
       "</div>"
      ],
      "text/plain": [
       "           NUMBER_OF_ACCOUNTS PLACEMENT_AMOUNT  PAYMENT_AMOUNT          REV  \\\n",
       "MONTH_YEAR                                                                    \n",
       "1990-06                     1           275.63           20.00       255.63   \n",
       "1992-11                     2           3203.2           10.00       3193.2   \n",
       "1993-02                     1           613.28           70.00       543.28   \n",
       "1993-03                     2          14850.0           10.00      14840.0   \n",
       "1993-04                     1           2120.0           40.00       2080.0   \n",
       "...                       ...              ...             ...          ...   \n",
       "2022-07                528187        124601.64     14006566.82 -13881965.18   \n",
       "2022-08                560111        252556.19     18040112.62 -17787556.43   \n",
       "2022-09                611340        317493.18     16795785.08  -16478291.9   \n",
       "2022-10                478058        412775.44     16316381.66 -15903606.22   \n",
       "353                         0                0     15306163.16            0   \n",
       "\n",
       "           LETTERS_COUNT MONTH  \n",
       "MONTH_YEAR                      \n",
       "1990-06                1     6  \n",
       "1992-11                1    11  \n",
       "1993-02                3     2  \n",
       "1993-03                4     3  \n",
       "1993-04                2     4  \n",
       "...                  ...   ...  \n",
       "2022-07           472828     7  \n",
       "2022-08           509834     8  \n",
       "2022-09           428615     9  \n",
       "2022-10           501257    10  \n",
       "353                    0     0  \n",
       "\n",
       "[354 rows x 6 columns]"
      ]
     },
     "execution_count": 228,
     "metadata": {},
     "output_type": "execute_result"
    }
   ],
   "source": [
    "normalized_df"
   ]
  },
  {
   "cell_type": "code",
   "execution_count": 229,
   "id": "a1bf2eb7-dd0d-4c6a-860d-d20a70bd4f76",
   "metadata": {},
   "outputs": [],
   "source": [
    "normalized_df = train.copy()\n",
    "scaler = MinMaxScaler()\n",
    "data_scaled = scaler.fit_transform(normalized_df)\n",
    "features = data_scaled\n",
    "target = data_scaled[:,2]\n",
    "window_length = 6\n",
    "num_features = 6\n",
    "train_generator = keras.preprocessing.sequence.TimeseriesGenerator(features,target,length=window_length,sampling_rate=1,batch_size=1)"
   ]
  },
  {
   "cell_type": "code",
   "execution_count": 230,
   "id": "d5388b53-f66a-42ac-8e23-481c36d1aeb1",
   "metadata": {},
   "outputs": [
    {
     "data": {
      "text/plain": [
       "array([[[7.84820312e-01, 2.73759874e-03, 5.77383907e-01, 6.05537687e-02,\n",
       "         4.81601268e-01, 2.72727273e-01],\n",
       "        [6.79274918e-01, 3.91820404e-03, 6.06947237e-01, 5.62403619e-02,\n",
       "         5.75761438e-01, 3.63636364e-01],\n",
       "        [8.25524643e-01, 2.65734865e-03, 5.96795138e-01, 5.68898228e-02,\n",
       "         4.65175206e-01, 4.54545455e-01],\n",
       "        [8.48272174e-01, 9.13956592e-04, 5.41177142e-01, 6.54691953e-02,\n",
       "         5.06368874e-01, 5.45454545e-01],\n",
       "        [8.99542448e-01, 1.85313399e-03, 6.97006462e-01, 3.75954080e-02,\n",
       "         5.46000043e-01, 6.36363636e-01],\n",
       "        [9.81816751e-01, 2.32976693e-03, 6.48933941e-01, 4.69394890e-02,\n",
       "         4.59019448e-01, 7.27272727e-01]]])"
      ]
     },
     "execution_count": 230,
     "metadata": {},
     "output_type": "execute_result"
    }
   ],
   "source": [
    "x_test = train_generator[-7][0]\n",
    "x_test"
   ]
  },
  {
   "cell_type": "code",
   "execution_count": 231,
   "id": "6ff0ae13-37a0-4726-a855-c3d5991f82ed",
   "metadata": {},
   "outputs": [
    {
     "data": {
      "text/plain": [
       "array([0.63041299])"
      ]
     },
     "execution_count": 231,
     "metadata": {},
     "output_type": "execute_result"
    }
   ],
   "source": [
    "y_test = train_generator[-7][1]\n",
    "y_test"
   ]
  },
  {
   "cell_type": "code",
   "execution_count": 232,
   "id": "93a5b42e-03ae-4ad0-8f7d-3dd0edf610bb",
   "metadata": {},
   "outputs": [
    {
     "data": {
      "text/plain": [
       "<matplotlib.legend.Legend at 0x7fafefd29060>"
      ]
     },
     "execution_count": 232,
     "metadata": {},
     "output_type": "execute_result"
    },
    {
     "data": {
      "image/png": "[encoded data removed]",
      "text/plain": [
       "<Figure size 432x288 with 1 Axes>"
      ]
     },
     "metadata": {
      "needs_background": "light"
     },
     "output_type": "display_data"
    }
   ],
   "source": [
    "train_predictions = model.predict(x_test)\n",
    "plt.scatter(.5, y_test, alpha=0.5)\n",
    "plt.scatter(.5, train_predictions, alpha=0.5)\n",
    "plt.legend(['Excepted Results', 'Training Predictions'])"
   ]
  },
  {
   "cell_type": "code",
   "execution_count": 239,
   "id": "9a413584-dc5d-40f7-ba3e-d1070cd619f4",
   "metadata": {},
   "outputs": [],
   "source": [
    "expect = np.concatenate((x_test[0][:,2], y_test), axis=0)\n",
    "predict = np.concatenate((x_test[0][:,2], train_predictions[0]), axis=0)"
   ]
  },
  {
   "cell_type": "code",
   "execution_count": 241,
   "id": "495b45b1-ae1e-4374-8c34-fadcc58c997c",
   "metadata": {},
   "outputs": [
    {
     "data": {
      "text/plain": [
       "<matplotlib.legend.Legend at 0x7fafefe744c0>"
      ]
     },
     "execution_count": 241,
     "metadata": {},
     "output_type": "execute_result"
    },
    {
     "data": {
      "image/png": "[encoded data removed]",
      "text/plain": [
       "<Figure size 432x288 with 1 Axes>"
      ]
     },
     "metadata": {
      "needs_background": "light"
     },
     "output_type": "display_data"
    }
   ],
   "source": [
    "plt.plot(expect)\n",
    "plt.plot(predict)\n",
    "plt.legend(['Excepted Results', 'Training Predictions'])"
   ]
  },
  {
   "cell_type": "code",
   "execution_count": null,
   "id": "1f41b6a3-a49d-4878-8f94-93c6263f433e",
   "metadata": {},
   "outputs": [],
   "source": []
  }
 ],
 "metadata": {
  "kernelspec": {
   "display_name": "Python 3 (ipykernel)",
   "language": "python",
   "name": "python3"
  },
  "language_info": {
   "codemirror_mode": {
    "name": "ipython",
    "version": 3
   },
   "file_extension": ".py",
   "mimetype": "text/x-python",
   "name": "python",
   "nbconvert_exporter": "python",
   "pygments_lexer": "ipython3",
   "version": "3.10.5"
  }
 },
 "nbformat": 4,
 "nbformat_minor": 5
}
